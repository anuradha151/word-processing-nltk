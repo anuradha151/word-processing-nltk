{
  "nbformat": 4,
  "nbformat_minor": 0,
  "metadata": {
    "colab": {
      "provenance": [],
      "authorship_tag": "ABX9TyOeJ4Ata7fRyHO/4jOtIfVf",
      "include_colab_link": true
    },
    "kernelspec": {
      "name": "python3",
      "display_name": "Python 3"
    },
    "language_info": {
      "name": "python"
    }
  },
  "cells": [
    {
      "cell_type": "markdown",
      "metadata": {
        "id": "view-in-github",
        "colab_type": "text"
      },
      "source": [
        "<a href=\"https://colab.research.google.com/github/anuradha151/word-processing-nltk/blob/main/chatbot_demo.ipynb\" target=\"_parent\"><img src=\"https://colab.research.google.com/assets/colab-badge.svg\" alt=\"Open In Colab\"/></a>"
      ]
    },
    {
      "cell_type": "code",
      "execution_count": 1,
      "metadata": {
        "id": "HmFEka3DcXQ_"
      },
      "outputs": [],
      "source": [
        "import nltk\n",
        "from nltk.corpus import stopwords\n",
        "from nltk.stem import PorterStemmer"
      ]
    },
    {
      "cell_type": "code",
      "source": [
        "nltk.download('punkt')\n",
        "nltk.download('stopwords')"
      ],
      "metadata": {
        "colab": {
          "base_uri": "https://localhost:8080/"
        },
        "id": "-Qcw-rL4chUY",
        "outputId": "a926047d-14d7-444f-ed48-445b74875d31"
      },
      "execution_count": 2,
      "outputs": [
        {
          "output_type": "stream",
          "name": "stderr",
          "text": [
            "[nltk_data] Downloading package punkt to /root/nltk_data...\n",
            "[nltk_data]   Unzipping tokenizers/punkt.zip.\n",
            "[nltk_data] Downloading package stopwords to /root/nltk_data...\n",
            "[nltk_data]   Unzipping corpora/stopwords.zip.\n"
          ]
        },
        {
          "output_type": "execute_result",
          "data": {
            "text/plain": [
              "True"
            ]
          },
          "metadata": {},
          "execution_count": 2
        }
      ]
    },
    {
      "cell_type": "code",
      "source": [
        "greetings = [\"hello\", \"hi\", \"good morning\"]\n",
        "confirmations = [\"yes\", \"sure\", \"ok\"]\n",
        "no_understanding = \"Sorry, I don't understand. Could you rephrase your question?\"\n"
      ],
      "metadata": {
        "id": "sZk7WrTrckpS"
      },
      "execution_count": 3,
      "outputs": []
    },
    {
      "cell_type": "code",
      "source": [
        "def preprocess_text(text):\n",
        "  # Tokenize the sentence\n",
        "  tokens = nltk.word_tokenize(text.lower())\n",
        "  # Remove stop words\n",
        "  stop_words = set(stopwords.words('english'))\n",
        "  tokens = [token for token in tokens if token not in stop_words]\n",
        "  # Apply stemming (optional, replace with lemmatization if desired)\n",
        "  stemmer = PorterStemmer()\n",
        "  stemmed_tokens = [stemmer.stem(token) for token in tokens]\n",
        "  return stemmed_tokens"
      ],
      "metadata": {
        "id": "2BMIQrFucpZW"
      },
      "execution_count": 4,
      "outputs": []
    },
    {
      "cell_type": "code",
      "source": [
        "user_input = input(\"Welcome to your Travel Advisor! How can I help you today? \")\n",
        "processed_text = preprocess_text(user_input)\n",
        "\n",
        "if any(word in processed_text for word in greetings):\n",
        "  print(\"Hi! How can I help you plan your trip?\")\n",
        "elif any(word in processed_text for word in confirmations):\n",
        "  print(\"Great! Let's get started.\")\n",
        "else:\n",
        "  # Replace with your Machine Learning Model for intent prediction later\n",
        "  print(no_understanding)"
      ],
      "metadata": {
        "colab": {
          "base_uri": "https://localhost:8080/"
        },
        "id": "zvnXdSedcu2J",
        "outputId": "17ad1e3a-e39b-49b1-95d0-fe83f59d35ac"
      },
      "execution_count": 6,
      "outputs": [
        {
          "output_type": "stream",
          "name": "stdout",
          "text": [
            "Welcome to your Travel Advisor! How can I help you today? Hi\n",
            "Hi! How can I help you plan your trip?\n"
          ]
        }
      ]
    }
  ]
}